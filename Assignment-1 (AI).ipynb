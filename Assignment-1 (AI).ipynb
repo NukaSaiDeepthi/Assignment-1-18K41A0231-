{
 "cells": [
  {
   "cell_type": "markdown",
   "metadata": {},
   "source": [
    "1.\tDevelop a code for below scenario\n",
    "                "
   ]
  },
  {
   "cell_type": "code",
   "execution_count": 41,
   "metadata": {},
   "outputs": [
    {
     "name": "stdout",
     "output_type": "stream",
     "text": [
      "year:-2020\n",
      "2020\n",
      "rat\n"
     ]
    }
   ],
   "source": [
    "d={0:\"monkey\",1:\"rooster\",2:\"dog\",3:\"pig\",4:\"rat\",5:\"ox\",6:\"tiger\",7:\"rabbit\",8:\"dragon\",9:\"snake\",10:\"horse\",11:\"sheep\"}\n",
    "year=int(input(\"year:-\"))\n",
    "print(year)\n",
    "rem=year%12\n",
    "if rem in d:\n",
    "    print(d[rem])"
   ]
  },
  {
   "cell_type": "markdown",
   "metadata": {},
   "source": [
    "2.\tA Quick Fox Transport Co. wants to develop an application for calculating amount based on distance and weight of goods. The charges (Amount) to be calculated as per rates given below. \n",
    "Input:  Distance to be travel: 520     \n",
    "Weight of the goods: 50 \n",
    "Output: Amount to be charged: 3120 /-"
   ]
  },
  {
   "cell_type": "code",
   "execution_count": 42,
   "metadata": {},
   "outputs": [
    {
     "name": "stdout",
     "output_type": "stream",
     "text": [
      "Distance to be travel:75\n",
      "Weight of the goods:3\n",
      "Amount to be charged: 375\n"
     ]
    }
   ],
   "source": [
    "D=int(input(\"Distance to be travel:\"))\n",
    "W=int(input(\"Weight of the goods:\"))\n",
    "if D>=500:\n",
    "    if W>=100:\n",
    "        A=5*D\n",
    "    elif W>=10 and W<100:\n",
    "        A=6*D\n",
    "    else:\n",
    "        A=7*D\n",
    "else:\n",
    "    if W>=100:\n",
    "        A=8*D\n",
    "    else:\n",
    "        A=5*D\n",
    "print(\"Amount to be charged:\",A)"
   ]
  },
  {
   "cell_type": "markdown",
   "metadata": {},
   "source": [
    "\n",
    "3.\tThe Entertainment Paradise\n",
    "\n",
    " A theater in Delhi wants to develop a computerized Booking System. The theater offers different types of seats. The Ticket rates are- Stalls- Rs. 625/-, Circle- Rs.750/-, Upper Class- Rs.850/- and Box- Rs.1000/-. A discount is given 10% of total amount if tickets are purchased on Cash. In case of credit card holders 5% discount is given. \n",
    "Input: \tType of Seat: Circle    \n",
    "Payment mode: cash\n",
    "Output: Cost of ticket: 675\n"
   ]
  },
  {
   "cell_type": "code",
   "execution_count": 43,
   "metadata": {},
   "outputs": [
    {
     "name": "stdout",
     "output_type": "stream",
     "text": [
      "Type of Seat:upper_class\n",
      "Payment mode:cash\n",
      "Cost of ticket: 765.0\n"
     ]
    }
   ],
   "source": [
    "seat=input(\"Type of Seat:\")\n",
    "mode=input(\"Payment mode:\")\n",
    "if mode in (\"cash\"):\n",
    "    if seat in \"stalls\":\n",
    "        C=625-(625*(10/100))\n",
    "    elif seat in \"circle\":\n",
    "        C=750-(750*(10/100))\n",
    "    elif seat in \"upper_class\":\n",
    "        C=850-(850*(10/100))\n",
    "    else:\n",
    "        C=1000-(1000*(10/100))\n",
    "else:\n",
    "    if seat in \"stalls\":\n",
    "          C=625-(625*(5/100))\n",
    "    elif seat in \"circle\":\n",
    "        C=750-(750*(5/100))\n",
    "    elif seat in \"upper_class\":\n",
    "        C=850-(850*(5/100))\n",
    "    else:\n",
    "        C=1000-(1000*(5/100))\n",
    "print(\"Cost of ticket:\",C)"
   ]
  },
  {
   "cell_type": "markdown",
   "metadata": {},
   "source": [
    "4.\tDevelop a program that calculates the energy needed to heat water from an initial temperature to a final temperature. Your program should prompt the user to enter the amount of water in kilograms and the initial and final temperatures of the water. The formula to compute the energy is \n",
    "Q = M * (finalTemperature – initialTemperature) * 4184.\n",
    "where M is the weight of water in kilograms, temperatures are in degrees Celsius,  and energy Q is measured in joules. (L6)"
   ]
  },
  {
   "cell_type": "code",
   "execution_count": 44,
   "metadata": {},
   "outputs": [
    {
     "name": "stdout",
     "output_type": "stream",
     "text": [
      "Amount of water(kg):6\n",
      "Initial temp of water:4\n",
      "Final temp of water:3\n",
      "Energy(Q) in joules: -25104\n"
     ]
    }
   ],
   "source": [
    "M=int(input(\"Amount of water(kg):\"))\n",
    "I=int(input(\"Initial temp of water:\"))\n",
    "F=int(input(\"Final temp of water:\"))\n",
    "Q=M*(F-I)*4184\n",
    "print(\"Energy(Q) in joules:\",Q)"
   ]
  },
  {
   "cell_type": "markdown",
   "metadata": {},
   "source": [
    "5.\tDevelop a program that prompts user to enter month and  print \n",
    "a.\t“Winter ” -   December ,January and February\n",
    "b.\t“Spring”  -   March ,April and May\n",
    "c.\t“Summer”  --- June ,July, August\n",
    "d.\t“Autumn ”  -- September ,October, November\n"
   ]
  },
  {
   "cell_type": "code",
   "execution_count": 16,
   "metadata": {},
   "outputs": [
    {
     "name": "stdout",
     "output_type": "stream",
     "text": [
      "Enter the month:august\n",
      "Summer\n"
     ]
    }
   ],
   "source": [
    "M=input(\"Enter the month:\")\n",
    "if M in (\"december\",\"january\",\"february\"):\n",
    "    print(\"Winter\")\n",
    "elif M in (\"march\",\"april\",\"may\"):\n",
    "    print(\"Spring\")\n",
    "elif M in (\"june\",\"july\",\"august\"):\n",
    "    print(\"Summer\")\n",
    "else:\n",
    "    print(\"Autumn\")"
   ]
  },
  {
   "cell_type": "markdown",
   "metadata": {},
   "source": [
    "6.\tBody Mass Index"
   ]
  },
  {
   "cell_type": "code",
   "execution_count": 17,
   "metadata": {},
   "outputs": [
    {
     "name": "stdout",
     "output_type": "stream",
     "text": [
      "Enter the weight in pounds:50\n",
      "Enter the height in inches4\n",
      "22.6796185\n",
      "0.1016\n",
      "2197.092436372373\n",
      "Obese\n"
     ]
    }
   ],
   "source": [
    "wt=int(input(\"Enter the weight in pounds:\"))\n",
    "ht=int(input(\"Enter the height in inches\"))\n",
    "W=wt*0.45359237\n",
    "print(W)\n",
    "H=ht*0.0254\n",
    "print(H)\n",
    "BMI=W/(H**2)\n",
    "print(BMI)\n",
    "if BMI<18.5:\n",
    "    print(\"Underweight\")\n",
    "elif BMI>=18.5 and BMI<25.0:\n",
    "    print(\"Normal\")\n",
    "elif BMI>=25.0 and BMI<30.0:\n",
    "    print(\"Overweight\")\n",
    "else:\n",
    "    print(\"Obese\")"
   ]
  },
  {
   "cell_type": "markdown",
   "metadata": {},
   "source": [
    "7.\tWrite a program that reads an integer between 100 and 1000 and adds all the digits in the integer \t(\tex: input 745 \t# output =16\t(7+4+5)\t)"
   ]
  },
  {
   "cell_type": "code",
   "execution_count": 27,
   "metadata": {},
   "outputs": [
    {
     "name": "stdout",
     "output_type": "stream",
     "text": [
      "Enter integer:988\n",
      "sum: 25\n"
     ]
    }
   ],
   "source": [
    "n=int(input(\"Enter integer:\"))\n",
    "sum=0\n",
    "if n>100 and n<1000:\n",
    "    while(n>0):\n",
    "        rem=n%10\n",
    "        sum=sum+rem\n",
    "        n=n//10\n",
    "    print(\"sum:\",sum)\n",
    "else:\n",
    "    print(\"Not in range\")"
   ]
  },
  {
   "cell_type": "markdown",
   "metadata": {},
   "source": [
    "8.\tPrint all palindrome numbers between 1 to 1000."
   ]
  },
  {
   "cell_type": "code",
   "execution_count": 30,
   "metadata": {},
   "outputs": [
    {
     "name": "stdout",
     "output_type": "stream",
     "text": [
      "1 pallindrome\n",
      "2 pallindrome\n",
      "3 pallindrome\n",
      "4 pallindrome\n",
      "5 pallindrome\n",
      "6 pallindrome\n",
      "7 pallindrome\n",
      "8 pallindrome\n",
      "9 pallindrome\n",
      "11 pallindrome\n",
      "22 pallindrome\n",
      "33 pallindrome\n",
      "44 pallindrome\n",
      "55 pallindrome\n",
      "66 pallindrome\n",
      "77 pallindrome\n",
      "88 pallindrome\n",
      "99 pallindrome\n",
      "101 pallindrome\n",
      "111 pallindrome\n",
      "121 pallindrome\n",
      "131 pallindrome\n",
      "141 pallindrome\n",
      "151 pallindrome\n",
      "161 pallindrome\n",
      "171 pallindrome\n",
      "181 pallindrome\n",
      "191 pallindrome\n",
      "202 pallindrome\n",
      "212 pallindrome\n",
      "222 pallindrome\n",
      "232 pallindrome\n",
      "242 pallindrome\n",
      "252 pallindrome\n",
      "262 pallindrome\n",
      "272 pallindrome\n",
      "282 pallindrome\n",
      "292 pallindrome\n",
      "303 pallindrome\n",
      "313 pallindrome\n",
      "323 pallindrome\n",
      "333 pallindrome\n",
      "343 pallindrome\n",
      "353 pallindrome\n",
      "363 pallindrome\n",
      "373 pallindrome\n",
      "383 pallindrome\n",
      "393 pallindrome\n",
      "404 pallindrome\n",
      "414 pallindrome\n",
      "424 pallindrome\n",
      "434 pallindrome\n",
      "444 pallindrome\n",
      "454 pallindrome\n",
      "464 pallindrome\n",
      "474 pallindrome\n",
      "484 pallindrome\n",
      "494 pallindrome\n",
      "505 pallindrome\n",
      "515 pallindrome\n",
      "525 pallindrome\n",
      "535 pallindrome\n",
      "545 pallindrome\n",
      "555 pallindrome\n",
      "565 pallindrome\n",
      "575 pallindrome\n",
      "585 pallindrome\n",
      "595 pallindrome\n",
      "606 pallindrome\n",
      "616 pallindrome\n",
      "626 pallindrome\n",
      "636 pallindrome\n",
      "646 pallindrome\n",
      "656 pallindrome\n",
      "666 pallindrome\n",
      "676 pallindrome\n",
      "686 pallindrome\n",
      "696 pallindrome\n",
      "707 pallindrome\n",
      "717 pallindrome\n",
      "727 pallindrome\n",
      "737 pallindrome\n",
      "747 pallindrome\n",
      "757 pallindrome\n",
      "767 pallindrome\n",
      "777 pallindrome\n",
      "787 pallindrome\n",
      "797 pallindrome\n",
      "808 pallindrome\n",
      "818 pallindrome\n",
      "828 pallindrome\n",
      "838 pallindrome\n",
      "848 pallindrome\n",
      "858 pallindrome\n",
      "868 pallindrome\n",
      "878 pallindrome\n",
      "888 pallindrome\n",
      "898 pallindrome\n",
      "909 pallindrome\n",
      "919 pallindrome\n",
      "929 pallindrome\n",
      "939 pallindrome\n",
      "949 pallindrome\n",
      "959 pallindrome\n",
      "969 pallindrome\n",
      "979 pallindrome\n",
      "989 pallindrome\n",
      "999 pallindrome\n"
     ]
    }
   ],
   "source": [
    "for num in range(1,1000):\n",
    "    rev=0\n",
    "    temp=num\n",
    "    while(num!=0):\n",
    "        rem=num%10\n",
    "        num=num//10\n",
    "        rev=rev*10+rem\n",
    "    if rev==temp:\n",
    "        print(temp,\"pallindrome\")"
   ]
  },
  {
   "cell_type": "markdown",
   "metadata": {},
   "source": [
    "9.\tPrint all Armstrong numbers between 1 to 1000. "
   ]
  },
  {
   "cell_type": "code",
   "execution_count": 31,
   "metadata": {},
   "outputs": [
    {
     "name": "stdout",
     "output_type": "stream",
     "text": [
      "1 Armstrong\n",
      "153 Armstrong\n",
      "370 Armstrong\n",
      "371 Armstrong\n",
      "407 Armstrong\n"
     ]
    }
   ],
   "source": [
    "for num in range(1,1000):\n",
    "    temp=num\n",
    "    sum=0\n",
    "    while temp>0:\n",
    "        digit=temp%10\n",
    "        sum=sum+digit**3\n",
    "        temp=temp//10\n",
    "    if sum==num:\n",
    "        print(num,\"Armstrong\")"
   ]
  },
  {
   "cell_type": "markdown",
   "metadata": {},
   "source": [
    "10.\tWrite a Java program which iterates the integers from 1 to 100. For multiples of three print \"Fizz\" instead of the number and print \"Buzz\" for the multiples of five. When number is divided by both three and five, print \"fizz buzz\"."
   ]
  },
  {
   "cell_type": "code",
   "execution_count": 38,
   "metadata": {},
   "outputs": [
    {
     "name": "stdout",
     "output_type": "stream",
     "text": [
      "1\n",
      "2\n",
      "Fizz\n",
      "4\n",
      "Buzz\n",
      "Fizz\n",
      "7\n",
      "8\n",
      "Fizz\n",
      "Buzz\n",
      "11\n",
      "Fizz\n",
      "13\n",
      "14\n",
      "FizzBuzz\n",
      "16\n",
      "17\n",
      "Fizz\n",
      "19\n",
      "Buzz\n",
      "Fizz\n",
      "22\n",
      "23\n",
      "Fizz\n",
      "Buzz\n",
      "26\n",
      "Fizz\n",
      "28\n",
      "29\n",
      "FizzBuzz\n",
      "31\n",
      "32\n",
      "Fizz\n",
      "34\n",
      "Buzz\n",
      "Fizz\n",
      "37\n",
      "38\n",
      "Fizz\n",
      "Buzz\n",
      "41\n",
      "Fizz\n",
      "43\n",
      "44\n",
      "FizzBuzz\n",
      "46\n",
      "47\n",
      "Fizz\n",
      "49\n",
      "Buzz\n",
      "Fizz\n",
      "52\n",
      "53\n",
      "Fizz\n",
      "Buzz\n",
      "56\n",
      "Fizz\n",
      "58\n",
      "59\n",
      "FizzBuzz\n",
      "61\n",
      "62\n",
      "Fizz\n",
      "64\n",
      "Buzz\n",
      "Fizz\n",
      "67\n",
      "68\n",
      "Fizz\n",
      "Buzz\n",
      "71\n",
      "Fizz\n",
      "73\n",
      "74\n",
      "FizzBuzz\n",
      "76\n",
      "77\n",
      "Fizz\n",
      "79\n",
      "Buzz\n",
      "Fizz\n",
      "82\n",
      "83\n",
      "Fizz\n",
      "Buzz\n",
      "86\n",
      "Fizz\n",
      "88\n",
      "89\n",
      "FizzBuzz\n",
      "91\n",
      "92\n",
      "Fizz\n",
      "94\n",
      "Buzz\n",
      "Fizz\n",
      "97\n",
      "98\n",
      "Fizz\n"
     ]
    }
   ],
   "source": [
    "for i in range(1,100):\n",
    "    if(i%3==0 and i%5==0):\n",
    "        print(\"FizzBuzz\")\n",
    "    elif i%3==0:\n",
    "        print(\"Fizz\")\n",
    "    elif i%5==0:\n",
    "        print(\"Buzz\")\n",
    "    else:\n",
    "        print(i)"
   ]
  },
  {
   "cell_type": "markdown",
   "metadata": {},
   "source": [
    "11.\tSpider Problem: A spider present at the bottom of the well of height H, needs to get out of it, using the slippery wall of the well. It decides to climb up the well; it goes up U meters and slips down D meters in one single step. So, in each step it covers (U-D) meters, and if the spider gets out of the well by covering U meters in the last step it doesn’t a slip back. For example, if the spider climbs up 5 meters and slips down by 3 meters in a single step, it covers (U - D) m in each step and 96 m in 48 steps, but in the 49th step it climbs up 5 m and reaches out of the well and it will not slip down and the step is counted as one step.     \n",
    "Input: Each test case will contain 3 integers ’H’ height of the well, next ’U’ meters climbs up in each step, and the last ’D’ meters slips down in each step.\n",
    "Output:  The number of steps 'N' required to get out of the well.\n",
    "Example 1:\n",
    " \tInput:\t\t\t\t\t\tOuput \n",
    "\t200 50 1\t\t\t\t\t    5\n",
    "\tExample 2:\n",
    " \tInput:\t\t\t\t\t\tOutput\n",
    "\t500 20 15\t\t\t\t\t   98\n"
   ]
  },
  {
   "cell_type": "code",
   "execution_count": 40,
   "metadata": {},
   "outputs": [
    {
     "name": "stdout",
     "output_type": "stream",
     "text": [
      "Height of well:50\n",
      "Meters spider climbs up in each step5\n",
      "Meters spider slips down in each step3\n",
      "Number of steps: 24\n"
     ]
    }
   ],
   "source": [
    "H=int(input(\"Height of well:\"))\n",
    "U=int(input(\"Meters spider climbs up in each step\"))\n",
    "D=int(input(\"Meters spider slips down in each step\"))\n",
    "s=0\n",
    "while H>=U:\n",
    "    s=s+1\n",
    "    H=H-(U-D)\n",
    "s+=1\n",
    "print(\"Number of steps:\",v)"
   ]
  },
  {
   "cell_type": "code",
   "execution_count": null,
   "metadata": {},
   "outputs": [],
   "source": []
  }
 ],
 "metadata": {
  "kernelspec": {
   "display_name": "Python 3",
   "language": "python",
   "name": "python3"
  },
  "language_info": {
   "codemirror_mode": {
    "name": "ipython",
    "version": 3
   },
   "file_extension": ".py",
   "mimetype": "text/x-python",
   "name": "python",
   "nbconvert_exporter": "python",
   "pygments_lexer": "ipython3",
   "version": "3.7.6"
  }
 },
 "nbformat": 4,
 "nbformat_minor": 4
}
