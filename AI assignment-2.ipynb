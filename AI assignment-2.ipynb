{
 "cells": [
  {
   "cell_type": "markdown",
   "metadata": {},
   "source": [
    "1. Area of Triangle :\n",
    "\n",
    "Given the lengths of three sides of a triangle, calculate the area of the\n",
    "triangle."
   ]
  },
  {
   "cell_type": "code",
   "execution_count": 3,
   "metadata": {},
   "outputs": [
    {
     "name": "stdout",
     "output_type": "stream",
     "text": [
      "Enter First side:5\n",
      "Enter Second side:6\n",
      "Enter Third side:7\n",
      "Area of Triangle= 14.696938456699069\n"
     ]
    }
   ],
   "source": [
    "a = float(input(\"Enter First side:\"))\n",
    "b = float(input(\"Enter Second side:\"))\n",
    "c = float(input(\"Enter Third side:\"))\n",
    "s = (a+b+c)/2\n",
    "area = (s*(s-a)*(s-b)*(s-c))**0.5\n",
    "print(\"Area of Triangle=\",area)"
   ]
  },
  {
   "cell_type": "markdown",
   "metadata": {},
   "source": [
    "2. Take a string from end user and check if the value is palindrome or not"
   ]
  },
  {
   "cell_type": "code",
   "execution_count": 4,
   "metadata": {},
   "outputs": [
    {
     "name": "stdout",
     "output_type": "stream",
     "text": [
      "Enter a String:madam\n",
      "The string is a Pallindrome\n"
     ]
    }
   ],
   "source": [
    "string = input(\"Enter a String:\")\n",
    "if(string==string[::-1]):\n",
    "    print(\"The string is a Pallindrome\")\n",
    "else:\n",
    "    print(\"The string is not a Pallindrome\")"
   ]
  },
  {
   "cell_type": "markdown",
   "metadata": {},
   "source": [
    "3. Write a program that reads a year from the user and displays a message\n",
    "Indicating whether or not it is a leap year."
   ]
  },
  {
   "cell_type": "code",
   "execution_count": 5,
   "metadata": {},
   "outputs": [
    {
     "name": "stdout",
     "output_type": "stream",
     "text": [
      "Enter a year:2020\n",
      "2020 is a Leap Year\n"
     ]
    }
   ],
   "source": [
    "year = int(input(\"Enter a year:\"))\n",
    "if year%4==0 and year%100!=0:\n",
    "    print(year,\"is a Leap Year\")\n",
    "elif year%100==0:\n",
    "    print(year,\"is not a Leap Year\")\n",
    "elif year%400==0:\n",
    "     print(year,\"is a Leap Year\")\n",
    "else:\n",
    "     print(year,\"is not a Leap Year\")"
   ]
  },
  {
   "cell_type": "markdown",
   "metadata": {},
   "source": [
    "4. Space To Hyphen problem\n",
    "\n",
    "Take a string as input, and replaces spaces “ “ with hyphens “-”, and\n",
    "returns a string."
   ]
  },
  {
   "cell_type": "code",
   "execution_count": 6,
   "metadata": {},
   "outputs": [
    {
     "name": "stdout",
     "output_type": "stream",
     "text": [
      "Enter a string:hi this is deepu\n",
      "New String: hi-this-is-deepu\n"
     ]
    }
   ],
   "source": [
    "string = input(\"Enter a string:\")\n",
    "string = string.replace(\" \",\"-\")\n",
    "print(\"New String:\",string)"
   ]
  },
  {
   "cell_type": "markdown",
   "metadata": {},
   "source": [
    "5. Unique Sort problem\n",
    "\n",
    "Take a string as input that accepts a comma separated sequence of words as\n",
    "input and prints the unique words in sorted form (alphanumerically)."
   ]
  },
  {
   "cell_type": "code",
   "execution_count": 2,
   "metadata": {},
   "outputs": [
    {
     "name": "stdout",
     "output_type": "stream",
     "text": [
      "Enter the words:apple,mango,cat,apple\n",
      "Unique words in sorted form: ['apple', 'cat', 'mango']\n"
     ]
    }
   ],
   "source": [
    "Input = input(\"Enter the words:\").split(\",\")\n",
    "words = list(set(Input))\n",
    "words.sort()\n",
    "print(\"Unique words in sorted form:\",str(words))"
   ]
  },
  {
   "cell_type": "markdown",
   "metadata": {},
   "source": [
    "6. Tax Calculator\n",
    "\n",
    "Ask the user for their monthly salary. Calculate whether they have to pay tax\n",
    "and if so, how much is that amount .Print the result"
   ]
  },
  {
   "cell_type": "code",
   "execution_count": 4,
   "metadata": {},
   "outputs": [
    {
     "name": "stdout",
     "output_type": "stream",
     "text": [
      "enter income1500000\n",
      "450000.0\n"
     ]
    }
   ],
   "source": [
    "i=int(input(\"enter income\"))\n",
    "if i<250000:\n",
    "  print(\"nil\")\n",
    "elif i>250000 and i<=500000:\n",
    "  tax=i*(5/100)\n",
    "  print(tax)\n",
    "elif i>500000 and i<=750000:\n",
    "  tax=i*(10/100)\n",
    "  print(tax)\n",
    "elif i>750000 and i<=1000000:\n",
    "  tax=i*(15/100) \n",
    "  print(tax)\n",
    "elif i>1000000 and i<=1250000:\n",
    "  tax=i*(20/100)\n",
    "  print(tax)\n",
    "elif i>12500010 and i<=1500000:\n",
    "  tax=i*(25/100)\n",
    "  print(tax)\n",
    "else:\n",
    " tax=i*(30/100)\n",
    " print(tax)"
   ]
  },
  {
   "cell_type": "markdown",
   "metadata": {},
   "source": [
    "7. Take a list of integers as an argument, and converts it into a single integer\n",
    "(return the integer)."
   ]
  },
  {
   "cell_type": "code",
   "execution_count": 2,
   "metadata": {},
   "outputs": [
    {
     "name": "stdout",
     "output_type": "stream",
     "text": [
      "113350"
     ]
    }
   ],
   "source": [
    "list = [11,33,50]\n",
    "for i in list:\n",
    "    print(i,end=\"\")"
   ]
  },
  {
   "cell_type": "markdown",
   "metadata": {},
   "source": [
    "8. Units of Time\n",
    "\n",
    "Create a program that reads duration from the user as a number of days,\n",
    "hours, minutes, and seconds. Compute and display the total number of\n",
    "seconds represented by this duration."
   ]
  },
  {
   "cell_type": "code",
   "execution_count": 36,
   "metadata": {},
   "outputs": [
    {
     "name": "stdout",
     "output_type": "stream",
     "text": [
      "Enter no. of days1\n",
      "Enter no. of hours1\n",
      "Enter no. of minutes1\n",
      "Enter no. of seconds1\n",
      "Total seconds = 90061\n"
     ]
    }
   ],
   "source": [
    "seconds_per_minute = 60\n",
    "seconds_per_hour = 3600\n",
    "seconds_per_day = 86400\n",
    "days = int(input(\"Enter no. of days\"))\n",
    "hours = int(input(\"Enter no. of hours\"))\n",
    "minutes = int(input(\"Enter no. of minutes\"))\n",
    "seconds = int(input(\"Enter no. of seconds\"))\n",
    "total_seconds = days*seconds_per_day\n",
    "total_seconds = total_seconds+(hours*seconds_per_hour)\n",
    "total_seconds = total_seconds+(minutes*seconds_per_minute)\n",
    "total_seconds = total_seconds+seconds\n",
    "print(\"Total seconds =\",total_seconds)"
   ]
  },
  {
   "cell_type": "markdown",
   "metadata": {},
   "source": [
    "9. Sort 3 Integers\n",
    "\n",
    "Given three integers (given through user input), sort the numbers using\n",
    "|min| and |max| functions."
   ]
  },
  {
   "cell_type": "code",
   "execution_count": 7,
   "metadata": {},
   "outputs": [
    {
     "name": "stdout",
     "output_type": "stream",
     "text": [
      "Enter the first no.:75\n",
      "Enter the second no.:32\n",
      "Enter the third no.:90\n",
      "Sorted form: 32 75 90\n"
     ]
    }
   ],
   "source": [
    "first = int(input(\"Enter the first no.:\"))\n",
    "second = int(input(\"Enter the second no.:\"))\n",
    "third = int(input(\"Enter the third no.:\"))\n",
    "minimum = min(first,second,third)\n",
    "maximum = max(first,second,third)\n",
    "remaining = (first+second+third)-minimum-maximum\n",
    "print(\"Sorted form:\",minimum,remaining,maximum)"
   ]
  },
  {
   "cell_type": "markdown",
   "metadata": {},
   "source": [
    "10.Write a program that reads a date from the user and computes its immediate\n",
    "successor. The date is the format YYYY-MM-DD. So, 2020-04-15 will have the\n",
    "successor 2020-04-16."
   ]
  },
  {
   "cell_type": "code",
   "execution_count": 5,
   "metadata": {},
   "outputs": [
    {
     "name": "stdout",
     "output_type": "stream",
     "text": [
      "Input a year: 2019\n",
      "Input a month (1-12): 12\n",
      "Input a day (1-31): 3\n",
      "The next date is [yyyy-mm-dd] 2019-12-4.\n"
     ]
    }
   ],
   "source": [
    "year = int(input(\"Input a year: \"))\n",
    "\n",
    "if (year % 400 == 0):\n",
    "    leap_year = True\n",
    "elif (year % 100 == 0):\n",
    "    leap_year = False\n",
    "elif (year % 4 == 0):\n",
    "    leap_year = True\n",
    "else:\n",
    "    leap_year = False\n",
    "\n",
    "month = int(input(\"Input a month (1-12): \"))\n",
    "\n",
    "if month in (1, 3, 5, 7, 8, 10, 12):\n",
    "    month_length = 31\n",
    "elif month == 2:\n",
    "    if leap_year:\n",
    "        month_length = 29\n",
    "    else:\n",
    "        month_length = 28\n",
    "else:\n",
    "    month_length = 30\n",
    "\n",
    "\n",
    "day = int(input(\"Input a day (1-31): \"))\n",
    "\n",
    "if day < month_length:\n",
    "    day += 1\n",
    "else:\n",
    "    day = 1\n",
    "    if month == 12:\n",
    "        month = 1\n",
    "        year += 1\n",
    "    else:\n",
    "        month += 1\n",
    "print(\"The next date is [yyyy-mm-dd] %d-%d-%d.\" % (year, month, day))"
   ]
  },
  {
   "cell_type": "markdown",
   "metadata": {},
   "source": [
    "11.Compute product of a list of numbers [45 ,3,2,89,72,1,10,7]\n",
    "Output: 121111200"
   ]
  },
  {
   "cell_type": "code",
   "execution_count": 6,
   "metadata": {},
   "outputs": [
    {
     "name": "stdout",
     "output_type": "stream",
     "text": [
      "121111200\n"
     ]
    }
   ],
   "source": [
    "l = [45 ,3,2,89,72,1,10,7]\n",
    "m = 1\n",
    "for i in l:\n",
    "    m = m*i\n",
    "print(m)"
   ]
  },
  {
   "cell_type": "markdown",
   "metadata": {},
   "source": [
    "12.Compute given Num_list = [5, 6,8 ,34,89,1] to get desired output\n",
    "Output: Out_list=[11,14,42,123,90]"
   ]
  },
  {
   "cell_type": "code",
   "execution_count": 7,
   "metadata": {},
   "outputs": [
    {
     "name": "stdout",
     "output_type": "stream",
     "text": [
      "Out_list: [11, 14, 42, 123, 90]\n"
     ]
    }
   ],
   "source": [
    "Num_list = [5,6,8,34,89,1]\n",
    "l = []\n",
    "for i in range(len(Num_list)-1):\n",
    "    n = Num_list[i]+Num_list[i+1]\n",
    "    l.append(n)\n",
    "print(\"Out_list:\",l)"
   ]
  },
  {
   "cell_type": "markdown",
   "metadata": {},
   "source": [
    "13. Compute given Num_tuple = (5, 6,8 ,3,9,1) to get desired output\n",
    "Output: Out_list = [5, 30, 240, 720, 6480, 6480]"
   ]
  },
  {
   "cell_type": "code",
   "execution_count": 8,
   "metadata": {},
   "outputs": [
    {
     "name": "stdout",
     "output_type": "stream",
     "text": [
      "[5, 30, 240, 720, 6480, 6480]\n"
     ]
    }
   ],
   "source": [
    "Num_tuple = (5,6,8,3,9,1)\n",
    "l = []\n",
    "m = 1\n",
    "for i in range(len(Num_tuple)):\n",
    "    m = m*Num_tuple[i]\n",
    "    l.append(m)\n",
    "print(l)"
   ]
  },
  {
   "cell_type": "markdown",
   "metadata": {},
   "source": [
    "14. Write a Python code that takes a number and returns a list of its digits. So\n",
    "for 586392 it should return [5,8,6,3,9,2]"
   ]
  },
  {
   "cell_type": "code",
   "execution_count": 16,
   "metadata": {},
   "outputs": [
    {
     "name": "stdout",
     "output_type": "stream",
     "text": [
      "Enter a number:586392\n",
      "['5', '8', '6', '3', '9', '2']\n"
     ]
    }
   ],
   "source": [
    "n = input(\"Enter a number:\")\n",
    "l = []\n",
    "for i in range(len(n)):\n",
    "    l.append(n[i])\n",
    "print(l)"
   ]
  },
  {
   "cell_type": "markdown",
   "metadata": {},
   "source": [
    "15.Write a program that finds the longest palindromic substring of a given\n",
    "string"
   ]
  },
  {
   "cell_type": "code",
   "execution_count": 19,
   "metadata": {},
   "outputs": [
    {
     "name": "stdout",
     "output_type": "stream",
     "text": [
      "Enter a string : hmamhihp\n",
      "hmamh\n"
     ]
    }
   ],
   "source": [
    "def longestpalindrome(n):\n",
    "    d=[[False for i in range(len(n))] for i in range(len(n))]\n",
    "    for i in range(len(n)):\n",
    "        d[i][i]=True\n",
    "    maxlen=1\n",
    "    start=0\n",
    "    for j in range(2,len(n)+1):\n",
    "        for i in range(len(n)-j+1):\n",
    "            end=i+j\n",
    "            if j==2:\n",
    "                if n[i]==n[end-1]:\n",
    "                    d[i][end-1]=True\n",
    "                    maxlen=j\n",
    "                    start=i\n",
    "            else:\n",
    "                if n[i]==n[end-1] and d[i+1][end-2]:\n",
    "                    d[i][end-1]=True\n",
    "                    maxlen=j\n",
    "                    start=i\n",
    "    return n[start:start+maxlen]\n",
    "n=input(\"Enter a string : \")\n",
    "print(longestpalindrome(n))"
   ]
  },
  {
   "cell_type": "markdown",
   "metadata": {},
   "source": [
    "16. Substring Check (Bug Funny)\n",
    "Given two binary strings, A (of length 10) and B (of length 5), output 1 if B is\n",
    "a substring of A and 0 otherwise.\n",
    "First two lines of input:\n",
    "1010110010 10110\n",
    "1110111011 10011\n",
    "First two lines of output:\n",
    "1\n",
    "0"
   ]
  },
  {
   "cell_type": "code",
   "execution_count": 3,
   "metadata": {},
   "outputs": [],
   "source": [
    "def check(A, B): \n",
    "    if (A.find(B) == -1): \n",
    "        print(\"Output=0\") \n",
    "    else: \n",
    "        print(\"Output=1\")            "
   ]
  },
  {
   "cell_type": "code",
   "execution_count": 4,
   "metadata": {},
   "outputs": [
    {
     "name": "stdout",
     "output_type": "stream",
     "text": [
      "Enter a binary string of length 10:1010110010\n",
      "Enter a binary string of length 5:10110\n",
      "Output=1\n"
     ]
    }
   ],
   "source": [
    "A = input(\"Enter a binary string of length 10:\")\n",
    "B =input(\"Enter a binary string of length 5:\")\n",
    "check(A, B)"
   ]
  },
  {
   "cell_type": "markdown",
   "metadata": {},
   "source": [
    "17. POUR1 - Pouring water\n",
    "Given two vessels, one of which can accommodate a litres of water and the other\n",
    "- b litres of water, determine the number of steps required to obtain exactly c litres\n",
    "of water in one of the vessels.\n",
    "At the beginning both vessels are empty. The following operations are counted as\n",
    "'steps':\n",
    "• emptying a vessel,\n",
    "• filling a vessel,\n",
    "• pouring water from one vessel to the other, without spilling, until one of\n",
    "the vessels is either full or empty.\n",
    "Input\n",
    "An integer t, 1<=t<=100, denoting the number of testcases , followed by t sets of\n",
    "input data, each consisting of three positive integers a, b, c, not larger than 40000,\n",
    "given in separate lines.\n",
    "Output\n",
    "For each set of input data, output the minimum number of steps required to\n",
    "obtain c litres, or -1 if this is impossible."
   ]
  },
  {
   "cell_type": "code",
   "execution_count": 1,
   "metadata": {},
   "outputs": [
    {
     "name": "stdout",
     "output_type": "stream",
     "text": [
      "number of test case2\n",
      "enter a b c2 3 4\n",
      "-1\n",
      "enter a b c3 3 3\n",
      "1\n"
     ]
    }
   ],
   "source": [
    "t=int(input(\"number of test case\"))\n",
    "for i in range(t):\n",
    "  a,b,c=map(int,input(\"enter a b c\").split())\n",
    "  if a>b:\n",
    "    d=a-b\n",
    "  elif a<b:\n",
    "    d=b-a\n",
    "  if c==a or c==b:\n",
    "    print(\"1\")\n",
    "  elif d==c:\n",
    "    print(\"2\")\n",
    "  else:\n",
    "    print(\"-1\")"
   ]
  },
  {
   "cell_type": "code",
   "execution_count": null,
   "metadata": {},
   "outputs": [],
   "source": []
  }
 ],
 "metadata": {
  "kernelspec": {
   "display_name": "Python 3",
   "language": "python",
   "name": "python3"
  },
  "language_info": {
   "codemirror_mode": {
    "name": "ipython",
    "version": 3
   },
   "file_extension": ".py",
   "mimetype": "text/x-python",
   "name": "python",
   "nbconvert_exporter": "python",
   "pygments_lexer": "ipython3",
   "version": "3.7.6"
  }
 },
 "nbformat": 4,
 "nbformat_minor": 4
}
